{
 "cells": [
  {
   "cell_type": "markdown",
   "metadata": {},
   "source": [
    "# MA Cross Strategy\n",
    "\n",
    "This notebook implements an MA (Moving Average) cross strategy for trading. It includes data downloading, signal generation, backtesting, and parameter sensitivity analysis."
   ]
  },
  {
   "cell_type": "code",
   "execution_count": 1,
   "metadata": {},
   "outputs": [],
   "source": [
    "import logging\n",
    "import os\n",
    "import numpy as np\n",
    "from app.utils import get_data\n",
    "from tools.filter_portfolios import filter_portfolios\n",
    "from tools.parameter_sensitivity_analysis import parameter_sensitivity_analysis\n",
    "\n",
    "# Logging setup\n",
    "log_dir = 'logs'\n",
    "if not os.path.exists(log_dir):\n",
    "    os.makedirs(log_dir)\n",
    "logging.basicConfig(filename=os.path.join(log_dir, 'ema_cross.log'), level=logging.INFO,\n",
    "                    format='%(asctime)s - %(levelname)s - %(message)s')"
   ]
  },
  {
   "cell_type": "markdown",
   "metadata": {},
   "source": [
    "## Configuration"
   ]
  },
  {
   "cell_type": "code",
   "execution_count": 2,
   "metadata": {},
   "outputs": [],
   "source": [
    "# Configuration\n",
    "TICKER_1 = 'SPY'  # Ticker for X to USD exchange rate\n",
    "TICKER_2 = 'BTC-USD'  # Ticker for Y to USD exchange rate\n",
    "YEARS = 30  # Set timeframe in years for data\n",
    "PERIOD = 'max' # Set time period for maximum data\n",
    "USE_HOURLY = False  # Set to False for data\n",
    "USE_SYNTHETIC = False  # Toggle between synthetic and original ticker\n",
    "SHORT = False  # Set to True for short-only strategy, False for long-only strategy\n",
    "USE_SMA = True  # Set to True to use SMAs, False to use EMAs\n",
    "USE_GBM = False # Set to True to use Geometric Brownian Motion data\n",
    "\n",
    "# Default Configuration\n",
    "CONFIG_DEFAULT = {\n",
    "    \"PERIOD\": 'max',\n",
    "    \"USE_HOURLY\": False,\n",
    "    \"USE_SYNTHETIC\": False,\n",
    "    \"TICKER_1\": TICKER_1,\n",
    "    \"TICKER_2\": TICKER_2,\n",
    "    \"SHORT\": False,\n",
    "    \"USE_GBM\": False,\n",
    "    \"BASE_DIR\": 'C:/Projects/trading'\n",
    "}\n",
    "\n",
    "# Custom Configuration\n",
    "CONFIG_CUSTOM = {\n",
    "    \"PERIOD\": PERIOD,\n",
    "    \"USE_HOURLY\": USE_HOURLY,\n",
    "    \"USE_SYNTHETIC\": USE_SYNTHETIC,\n",
    "    \"TICKER_1\": TICKER_1,\n",
    "    \"TICKER_2\": TICKER_2,\n",
    "    \"SHORT\": SHORT,\n",
    "    \"BASE_DIR\": 'C:/Projects/trading'\n",
    "}\n",
    "\n",
    "CONFIG = CONFIG_CUSTOM"
   ]
  },
  {
   "cell_type": "markdown",
   "metadata": {},
   "source": [
    "## Get Price Data"
   ]
  },
  {
   "cell_type": "code",
   "execution_count": 3,
   "metadata": {},
   "outputs": [
    {
     "name": "stderr",
     "output_type": "stream",
     "text": [
      "[*********************100%***********************]  1 of 1 completed\n"
     ]
    },
    {
     "data": {
      "text/html": [
       "<div><style>\n",
       ".dataframe > thead > tr,\n",
       ".dataframe > tbody > tr {\n",
       "  text-align: right;\n",
       "  white-space: pre-wrap;\n",
       "}\n",
       "</style>\n",
       "<small>shape: (7_990, 7)</small><table border=\"1\" class=\"dataframe\"><thead><tr><th>Date</th><th>Open</th><th>High</th><th>Low</th><th>Close</th><th>Adj Close</th><th>Volume</th></tr><tr><td>datetime[ns]</td><td>f64</td><td>f64</td><td>f64</td><td>f64</td><td>f64</td><td>i64</td></tr></thead><tbody><tr><td>1993-01-29 00:00:00</td><td>43.96875</td><td>43.96875</td><td>43.75</td><td>43.9375</td><td>24.608622</td><td>1003200</td></tr><tr><td>1993-02-01 00:00:00</td><td>43.96875</td><td>44.25</td><td>43.96875</td><td>44.25</td><td>24.783653</td><td>480500</td></tr><tr><td>1993-02-02 00:00:00</td><td>44.21875</td><td>44.375</td><td>44.125</td><td>44.34375</td><td>24.836149</td><td>201300</td></tr><tr><td>1993-02-03 00:00:00</td><td>44.40625</td><td>44.84375</td><td>44.375</td><td>44.8125</td><td>25.098694</td><td>529400</td></tr><tr><td>1993-02-04 00:00:00</td><td>44.96875</td><td>45.09375</td><td>44.46875</td><td>45.0</td><td>25.203718</td><td>531500</td></tr><tr><td>&hellip;</td><td>&hellip;</td><td>&hellip;</td><td>&hellip;</td><td>&hellip;</td><td>&hellip;</td><td>&hellip;</td></tr><tr><td>2024-10-16 00:00:00</td><td>579.780029</td><td>582.830017</td><td>578.960022</td><td>582.299988</td><td>582.299988</td><td>30725400</td></tr><tr><td>2024-10-17 00:00:00</td><td>585.909973</td><td>586.119995</td><td>582.159973</td><td>582.349976</td><td>582.349976</td><td>34393700</td></tr><tr><td>2024-10-18 00:00:00</td><td>584.070007</td><td>585.390015</td><td>582.580017</td><td>584.590027</td><td>584.590027</td><td>37416800</td></tr><tr><td>2024-10-21 00:00:00</td><td>583.849976</td><td>584.849976</td><td>580.599976</td><td>583.630005</td><td>583.630005</td><td>36439000</td></tr><tr><td>2024-10-22 00:00:00</td><td>581.049988</td><td>584.5</td><td>580.380005</td><td>583.320007</td><td>583.320007</td><td>33594500</td></tr></tbody></table></div>"
      ],
      "text/plain": [
       "shape: (7_990, 7)\n",
       "┌─────────────────────┬────────────┬────────────┬────────────┬────────────┬────────────┬──────────┐\n",
       "│ Date                ┆ Open       ┆ High       ┆ Low        ┆ Close      ┆ Adj Close  ┆ Volume   │\n",
       "│ ---                 ┆ ---        ┆ ---        ┆ ---        ┆ ---        ┆ ---        ┆ ---      │\n",
       "│ datetime[ns]        ┆ f64        ┆ f64        ┆ f64        ┆ f64        ┆ f64        ┆ i64      │\n",
       "╞═════════════════════╪════════════╪════════════╪════════════╪════════════╪════════════╪══════════╡\n",
       "│ 1993-01-29 00:00:00 ┆ 43.96875   ┆ 43.96875   ┆ 43.75      ┆ 43.9375    ┆ 24.608622  ┆ 1003200  │\n",
       "│ 1993-02-01 00:00:00 ┆ 43.96875   ┆ 44.25      ┆ 43.96875   ┆ 44.25      ┆ 24.783653  ┆ 480500   │\n",
       "│ 1993-02-02 00:00:00 ┆ 44.21875   ┆ 44.375     ┆ 44.125     ┆ 44.34375   ┆ 24.836149  ┆ 201300   │\n",
       "│ 1993-02-03 00:00:00 ┆ 44.40625   ┆ 44.84375   ┆ 44.375     ┆ 44.8125    ┆ 25.098694  ┆ 529400   │\n",
       "│ 1993-02-04 00:00:00 ┆ 44.96875   ┆ 45.09375   ┆ 44.46875   ┆ 45.0       ┆ 25.203718  ┆ 531500   │\n",
       "│ …                   ┆ …          ┆ …          ┆ …          ┆ …          ┆ …          ┆ …        │\n",
       "│ 2024-10-16 00:00:00 ┆ 579.780029 ┆ 582.830017 ┆ 578.960022 ┆ 582.299988 ┆ 582.299988 ┆ 30725400 │\n",
       "│ 2024-10-17 00:00:00 ┆ 585.909973 ┆ 586.119995 ┆ 582.159973 ┆ 582.349976 ┆ 582.349976 ┆ 34393700 │\n",
       "│ 2024-10-18 00:00:00 ┆ 584.070007 ┆ 585.390015 ┆ 582.580017 ┆ 584.590027 ┆ 584.590027 ┆ 37416800 │\n",
       "│ 2024-10-21 00:00:00 ┆ 583.849976 ┆ 584.849976 ┆ 580.599976 ┆ 583.630005 ┆ 583.630005 ┆ 36439000 │\n",
       "│ 2024-10-22 00:00:00 ┆ 581.049988 ┆ 584.5      ┆ 580.380005 ┆ 583.320007 ┆ 583.320007 ┆ 33594500 │\n",
       "└─────────────────────┴────────────┴────────────┴────────────┴────────────┴────────────┴──────────┘"
      ]
     },
     "execution_count": 3,
     "metadata": {},
     "output_type": "execute_result"
    }
   ],
   "source": [
    "data = get_data(CONFIG)\n",
    "\n",
    "data"
   ]
  },
  {
   "cell_type": "markdown",
   "metadata": {},
   "source": [
    "## Analyse Parameter Sensitivity"
   ]
  },
  {
   "cell_type": "code",
   "execution_count": 4,
   "metadata": {},
   "outputs": [
    {
     "name": "stdout",
     "output_type": "stream",
     "text": [
      "Analysis complete. Portfolios written to C:/Projects/trading\\csv/ma_cross/SPY_parameter_portfolios_EMA.csv\n",
      "Total rows in output: 990\n"
     ]
    },
    {
     "data": {
      "text/html": [
       "<div><style>\n",
       ".dataframe > thead > tr,\n",
       ".dataframe > tbody > tr {\n",
       "  text-align: right;\n",
       "  white-space: pre-wrap;\n",
       "}\n",
       "</style>\n",
       "<small>shape: (990, 30)</small><table border=\"1\" class=\"dataframe\"><thead><tr><th>Short Window</th><th>Long Window</th><th>Start</th><th>End</th><th>Period</th><th>Start Value</th><th>End Value</th><th>Total Return [%]</th><th>Benchmark Return [%]</th><th>Max Gross Exposure [%]</th><th>Total Fees Paid</th><th>Max Drawdown [%]</th><th>Max Drawdown Duration</th><th>Total Trades</th><th>Total Closed Trades</th><th>Total Open Trades</th><th>Open Trade PnL</th><th>Win Rate [%]</th><th>Best Trade [%]</th><th>Worst Trade [%]</th><th>Avg Winning Trade [%]</th><th>Avg Losing Trade [%]</th><th>Avg Winning Trade Duration</th><th>Avg Losing Trade Duration</th><th>Profit Factor</th><th>Expectancy</th><th>Sharpe Ratio</th><th>Calmar Ratio</th><th>Omega Ratio</th><th>Sortino Ratio</th></tr><tr><td>i64</td><td>i64</td><td>str</td><td>str</td><td>str</td><td>f64</td><td>f64</td><td>f64</td><td>f64</td><td>f64</td><td>f64</td><td>f64</td><td>str</td><td>i64</td><td>i64</td><td>i64</td><td>f64</td><td>f64</td><td>f64</td><td>f64</td><td>f64</td><td>f64</td><td>str</td><td>str</td><td>f64</td><td>f64</td><td>f64</td><td>f64</td><td>f64</td><td>f64</td></tr></thead><tbody><tr><td>41</td><td>44</td><td>&quot;0&quot;</td><td>&quot;7989&quot;</td><td>&quot;7990 days 00:00:00&quot;</td><td>1000.0</td><td>7652.180186</td><td>665.218019</td><td>1227.613103</td><td>100.0</td><td>258.191705</td><td>39.976111</td><td>&quot;2577 days 00:00:00&quot;</td><td>49</td><td>48</td><td>1</td><td>1732.657704</td><td>45.833333</td><td>45.023562</td><td>-7.304961</td><td>13.522382</td><td>-3.288445</td><td>&quot;208 days 14:10:54.545454544&quot;</td><td>&quot;38 days 00:55:23.076923077&quot;</td><td>3.131492</td><td>102.490052</td><td>0.716638</td><td>0.243697</td><td>1.130183</td><td>1.002223</td></tr><tr><td>42</td><td>43</td><td>&quot;0&quot;</td><td>&quot;7989&quot;</td><td>&quot;7990 days 00:00:00&quot;</td><td>1000.0</td><td>7652.180186</td><td>665.218019</td><td>1227.613103</td><td>100.0</td><td>258.191705</td><td>39.976111</td><td>&quot;2577 days 00:00:00&quot;</td><td>49</td><td>48</td><td>1</td><td>1732.657704</td><td>45.833333</td><td>45.023562</td><td>-7.304961</td><td>13.522382</td><td>-3.288445</td><td>&quot;208 days 14:10:54.545454544&quot;</td><td>&quot;38 days 00:55:23.076923077&quot;</td><td>3.131492</td><td>102.490052</td><td>0.716638</td><td>0.243697</td><td>1.130183</td><td>1.002223</td></tr><tr><td>37</td><td>48</td><td>&quot;0&quot;</td><td>&quot;7989&quot;</td><td>&quot;7990 days 00:00:00&quot;</td><td>1000.0</td><td>7603.165112</td><td>660.316511</td><td>1227.613103</td><td>100.0</td><td>258.876355</td><td>39.976111</td><td>&quot;2575 days 00:00:00&quot;</td><td>50</td><td>49</td><td>1</td><td>1721.559383</td><td>46.938776</td><td>45.023562</td><td>-6.239333</td><td>12.691245</td><td>-3.210336</td><td>&quot;199 days 12:31:18.260869566&quot;</td><td>&quot;37 days 23:04:36.923076923&quot;</td><td>3.222447</td><td>99.624607</td><td>0.715003</td><td>0.242892</td><td>1.129929</td><td>0.99976</td></tr><tr><td>39</td><td>46</td><td>&quot;0&quot;</td><td>&quot;7989&quot;</td><td>&quot;7990 days 00:00:00&quot;</td><td>1000.0</td><td>7601.029623</td><td>660.102962</td><td>1227.613103</td><td>100.0</td><td>257.799428</td><td>39.976111</td><td>&quot;2577 days 00:00:00&quot;</td><td>50</td><td>49</td><td>1</td><td>1721.075852</td><td>46.938776</td><td>45.023562</td><td>-6.239333</td><td>12.739107</td><td>-3.247019</td><td>&quot;199 days 12:31:18.260869566&quot;</td><td>&quot;38 days 00:00:00&quot;</td><td>3.211038</td><td>99.590893</td><td>0.714843</td><td>0.242856</td><td>1.129876</td><td>0.999467</td></tr><tr><td>41</td><td>47</td><td>&quot;0&quot;</td><td>&quot;7989&quot;</td><td>&quot;7990 days 00:00:00&quot;</td><td>1000.0</td><td>7584.443527</td><td>658.444353</td><td>1227.613103</td><td>100.0</td><td>239.283378</td><td>38.721552</td><td>&quot;2577 days 00:00:00&quot;</td><td>46</td><td>45</td><td>1</td><td>1717.320317</td><td>46.666667</td><td>42.537178</td><td>-7.954504</td><td>14.145433</td><td>-3.613102</td><td>&quot;219 days 18:17:08.571428572&quot;</td><td>&quot;41 days 07:00:00&quot;</td><td>3.089617</td><td>108.158294</td><td>0.712696</td><td>0.250442</td><td>1.129082</td><td>0.996631</td></tr><tr><td>&hellip;</td><td>&hellip;</td><td>&hellip;</td><td>&hellip;</td><td>&hellip;</td><td>&hellip;</td><td>&hellip;</td><td>&hellip;</td><td>&hellip;</td><td>&hellip;</td><td>&hellip;</td><td>&hellip;</td><td>&hellip;</td><td>&hellip;</td><td>&hellip;</td><td>&hellip;</td><td>&hellip;</td><td>&hellip;</td><td>&hellip;</td><td>&hellip;</td><td>&hellip;</td><td>&hellip;</td><td>&hellip;</td><td>&hellip;</td><td>&hellip;</td><td>&hellip;</td><td>&hellip;</td><td>&hellip;</td><td>&hellip;</td><td>&hellip;</td></tr><tr><td>6</td><td>9</td><td>&quot;0&quot;</td><td>&quot;7989&quot;</td><td>&quot;7990 days 00:00:00&quot;</td><td>1000.0</td><td>692.461295</td><td>-30.75387</td><td>1227.613103</td><td>100.0</td><td>438.423759</td><td>71.957799</td><td>&quot;6669 days 00:00:00&quot;</td><td>341</td><td>340</td><td>1</td><td>28.0998</td><td>33.235294</td><td>22.634286</td><td>-9.048947</td><td>3.645495</td><td>-1.908612</td><td>&quot;30 days 19:45:07.964601770&quot;</td><td>&quot;6 days 16:35:56.828193832&quot;</td><td>0.884491</td><td>-0.987172</td><td>-0.054723</td><td>-0.023136</td><td>0.989778</td><td>-0.074125</td></tr><tr><td>5</td><td>7</td><td>&quot;0&quot;</td><td>&quot;7989&quot;</td><td>&quot;7990 days 00:00:00&quot;</td><td>1000.0</td><td>690.707633</td><td>-30.929237</td><td>1227.613103</td><td>100.0</td><td>535.426528</td><td>74.006742</td><td>&quot;6488 days 00:00:00&quot;</td><td>418</td><td>417</td><td>1</td><td>28.028637</td><td>34.532374</td><td>18.245116</td><td>-7.902754</td><td>3.171289</td><td>-1.750292</td><td>&quot;24 days 00:40:00&quot;</td><td>&quot;5 days 09:13:50.769230769&quot;</td><td>0.893303</td><td>-0.808923</td><td>-0.054724</td><td>-0.022649</td><td>0.989687</td><td>-0.074391</td></tr><tr><td>5</td><td>10</td><td>&quot;0&quot;</td><td>&quot;7989&quot;</td><td>&quot;7990 days 00:00:00&quot;</td><td>1000.0</td><td>685.705597</td><td>-31.42944</td><td>1227.613103</td><td>100.0</td><td>464.63568</td><td>70.666621</td><td>&quot;6669 days 00:00:00&quot;</td><td>354</td><td>353</td><td>1</td><td>27.825656</td><td>33.711048</td><td>22.634286</td><td>-9.048947</td><td>3.561616</td><td>-1.905968</td><td>&quot;29 days 17:44:52.436974790&quot;</td><td>&quot;6 days 07:29:13.846153846&quot;</td><td>0.886543</td><td>-0.969179</td><td>-0.058885</td><td>-0.024182</td><td>0.989051</td><td>-0.079714</td></tr><tr><td>6</td><td>8</td><td>&quot;0&quot;</td><td>&quot;7989&quot;</td><td>&quot;7990 days 00:00:00&quot;</td><td>1000.0</td><td>651.531132</td><td>-34.846887</td><td>1227.613103</td><td>100.0</td><td>465.123008</td><td>71.36915</td><td>&quot;6669 days 00:00:00&quot;</td><td>368</td><td>367</td><td>1</td><td>26.43887</td><td>34.604905</td><td>17.279191</td><td>-9.048947</td><td>3.352778</td><td>-1.892314</td><td>&quot;27 days 21:32:35.905511811&quot;</td><td>&quot;6 days 00:48:00&quot;</td><td>0.873404</td><td>-1.021547</td><td>-0.07449</td><td>-0.027156</td><td>0.986095</td><td>-0.100745</td></tr><tr><td>5</td><td>6</td><td>&quot;0&quot;</td><td>&quot;7989&quot;</td><td>&quot;7990 days 00:00:00&quot;</td><td>1000.0</td><td>500.442482</td><td>-49.955752</td><td>1227.613103</td><td>100.0</td><td>514.098102</td><td>74.639346</td><td>&quot;6488 days 00:00:00&quot;</td><td>454</td><td>453</td><td>1</td><td>8.216185</td><td>34.216336</td><td>17.239497</td><td>-6.877064</td><td>3.042051</td><td>-1.752695</td><td>&quot;22 days 01:05:01.935483871&quot;</td><td>&quot;5 days 00:57:59.194630872&quot;</td><td>0.834318</td><td>-1.120913</td><td>-0.160753</td><td>-0.041706</td><td>0.969902</td><td>-0.216995</td></tr></tbody></table></div>"
      ],
      "text/plain": [
       "shape: (990, 30)\n",
       "┌────────┬──────────────┬───────┬──────┬───┬─────────────┬─────────────┬─────────────┬─────────────┐\n",
       "│ Short  ┆ Long Window  ┆ Start ┆ End  ┆ … ┆ Sharpe      ┆ Calmar      ┆ Omega Ratio ┆ Sortino     │\n",
       "│ Window ┆ ---          ┆ ---   ┆ ---  ┆   ┆ Ratio       ┆ Ratio       ┆ ---         ┆ Ratio       │\n",
       "│ ---    ┆ i64          ┆ str   ┆ str  ┆   ┆ ---         ┆ ---         ┆ f64         ┆ ---         │\n",
       "│ i64    ┆              ┆       ┆      ┆   ┆ f64         ┆ f64         ┆             ┆ f64         │\n",
       "╞════════╪══════════════╪═══════╪══════╪═══╪═════════════╪═════════════╪═════════════╪═════════════╡\n",
       "│ 41     ┆ 44           ┆ 0     ┆ 7989 ┆ … ┆ 0.716638    ┆ 0.243697    ┆ 1.130183    ┆ 1.002223    │\n",
       "│ 42     ┆ 43           ┆ 0     ┆ 7989 ┆ … ┆ 0.716638    ┆ 0.243697    ┆ 1.130183    ┆ 1.002223    │\n",
       "│ 37     ┆ 48           ┆ 0     ┆ 7989 ┆ … ┆ 0.715003    ┆ 0.242892    ┆ 1.129929    ┆ 0.99976     │\n",
       "│ 39     ┆ 46           ┆ 0     ┆ 7989 ┆ … ┆ 0.714843    ┆ 0.242856    ┆ 1.129876    ┆ 0.999467    │\n",
       "│ 41     ┆ 47           ┆ 0     ┆ 7989 ┆ … ┆ 0.712696    ┆ 0.250442    ┆ 1.129082    ┆ 0.996631    │\n",
       "│ …      ┆ …            ┆ …     ┆ …    ┆ … ┆ …           ┆ …           ┆ …           ┆ …           │\n",
       "│ 6      ┆ 9            ┆ 0     ┆ 7989 ┆ … ┆ -0.054723   ┆ -0.023136   ┆ 0.989778    ┆ -0.074125   │\n",
       "│ 5      ┆ 7            ┆ 0     ┆ 7989 ┆ … ┆ -0.054724   ┆ -0.022649   ┆ 0.989687    ┆ -0.074391   │\n",
       "│ 5      ┆ 10           ┆ 0     ┆ 7989 ┆ … ┆ -0.058885   ┆ -0.024182   ┆ 0.989051    ┆ -0.079714   │\n",
       "│ 6      ┆ 8            ┆ 0     ┆ 7989 ┆ … ┆ -0.07449    ┆ -0.027156   ┆ 0.986095    ┆ -0.100745   │\n",
       "│ 5      ┆ 6            ┆ 0     ┆ 7989 ┆ … ┆ -0.160753   ┆ -0.041706   ┆ 0.969902    ┆ -0.216995   │\n",
       "└────────┴──────────────┴───────┴──────┴───┴─────────────┴─────────────┴─────────────┴─────────────┘"
      ]
     },
     "execution_count": 4,
     "metadata": {},
     "output_type": "execute_result"
    }
   ],
   "source": [
    "short_windows = np.linspace(5, 50, 45, dtype=int)\n",
    "long_windows = np.linspace(5, 50, 45, dtype=int)\n",
    "portfolios = parameter_sensitivity_analysis(data, short_windows, long_windows, CONFIG)\n",
    "\n",
    "portfolios"
   ]
  },
  {
   "cell_type": "markdown",
   "metadata": {},
   "source": [
    "## Filter Results"
   ]
  },
  {
   "cell_type": "code",
   "execution_count": 5,
   "metadata": {},
   "outputs": [
    {
     "name": "stdout",
     "output_type": "stream",
     "text": [
      "Analysis complete. Results written to C:/Projects/trading\\csv/ma_cross/SPY_filtered_portfolios_EMA.csv\n",
      "Total rows in output: 66\n"
     ]
    },
    {
     "data": {
      "text/html": [
       "<div><style>\n",
       ".dataframe > thead > tr,\n",
       ".dataframe > tbody > tr {\n",
       "  text-align: right;\n",
       "  white-space: pre-wrap;\n",
       "}\n",
       "</style>\n",
       "<small>shape: (66, 31)</small><table border=\"1\" class=\"dataframe\"><thead><tr><th>Metric Type</th><th>Short Window</th><th>Long Window</th><th>Start</th><th>End</th><th>Period</th><th>Start Value</th><th>End Value</th><th>Total Return [%]</th><th>Benchmark Return [%]</th><th>Max Gross Exposure [%]</th><th>Total Fees Paid</th><th>Max Drawdown [%]</th><th>Max Drawdown Duration</th><th>Total Trades</th><th>Total Closed Trades</th><th>Total Open Trades</th><th>Open Trade PnL</th><th>Win Rate [%]</th><th>Best Trade [%]</th><th>Worst Trade [%]</th><th>Avg Winning Trade [%]</th><th>Avg Losing Trade [%]</th><th>Avg Winning Trade Duration</th><th>Avg Losing Trade Duration</th><th>Profit Factor</th><th>Expectancy</th><th>Sharpe Ratio</th><th>Calmar Ratio</th><th>Omega Ratio</th><th>Sortino Ratio</th></tr><tr><td>str</td><td>i64</td><td>i64</td><td>str</td><td>str</td><td>str</td><td>f64</td><td>f64</td><td>f64</td><td>f64</td><td>f64</td><td>f64</td><td>f64</td><td>str</td><td>i64</td><td>i64</td><td>i64</td><td>f64</td><td>f64</td><td>f64</td><td>f64</td><td>f64</td><td>f64</td><td>str</td><td>str</td><td>f64</td><td>f64</td><td>f64</td><td>f64</td><td>f64</td><td>f64</td></tr></thead><tbody><tr><td>&quot;Most Total Return [%]&quot;</td><td>41</td><td>44</td><td>&quot;0&quot;</td><td>&quot;7989&quot;</td><td>&quot;7990 days 00:00:00&quot;</td><td>1000.0</td><td>7652.180186</td><td>665.218019</td><td>1227.613103</td><td>100.0</td><td>258.191705</td><td>39.976111</td><td>&quot;2577 days 00:00:00&quot;</td><td>49</td><td>48</td><td>1</td><td>1732.657704</td><td>45.833333</td><td>45.023562</td><td>-7.304961</td><td>13.522382</td><td>-3.288445</td><td>&quot;208 days 14:10:54.545454544&quot;</td><td>&quot;38 days 00:55:23.076923077&quot;</td><td>3.131492</td><td>102.490052</td><td>0.716638</td><td>0.243697</td><td>1.130183</td><td>1.002223</td></tr><tr><td>&quot;Most Sharpe Ratio&quot;</td><td>41</td><td>44</td><td>&quot;0&quot;</td><td>&quot;7989&quot;</td><td>&quot;7990 days 00:00:00&quot;</td><td>1000.0</td><td>7652.180186</td><td>665.218019</td><td>1227.613103</td><td>100.0</td><td>258.191705</td><td>39.976111</td><td>&quot;2577 days 00:00:00&quot;</td><td>49</td><td>48</td><td>1</td><td>1732.657704</td><td>45.833333</td><td>45.023562</td><td>-7.304961</td><td>13.522382</td><td>-3.288445</td><td>&quot;208 days 14:10:54.545454544&quot;</td><td>&quot;38 days 00:55:23.076923077&quot;</td><td>3.131492</td><td>102.490052</td><td>0.716638</td><td>0.243697</td><td>1.130183</td><td>1.002223</td></tr><tr><td>&quot;Most Omega Ratio&quot;</td><td>41</td><td>44</td><td>&quot;0&quot;</td><td>&quot;7989&quot;</td><td>&quot;7990 days 00:00:00&quot;</td><td>1000.0</td><td>7652.180186</td><td>665.218019</td><td>1227.613103</td><td>100.0</td><td>258.191705</td><td>39.976111</td><td>&quot;2577 days 00:00:00&quot;</td><td>49</td><td>48</td><td>1</td><td>1732.657704</td><td>45.833333</td><td>45.023562</td><td>-7.304961</td><td>13.522382</td><td>-3.288445</td><td>&quot;208 days 14:10:54.545454544&quot;</td><td>&quot;38 days 00:55:23.076923077&quot;</td><td>3.131492</td><td>102.490052</td><td>0.716638</td><td>0.243697</td><td>1.130183</td><td>1.002223</td></tr><tr><td>&quot;Most Sortino Ratio&quot;</td><td>41</td><td>44</td><td>&quot;0&quot;</td><td>&quot;7989&quot;</td><td>&quot;7990 days 00:00:00&quot;</td><td>1000.0</td><td>7652.180186</td><td>665.218019</td><td>1227.613103</td><td>100.0</td><td>258.191705</td><td>39.976111</td><td>&quot;2577 days 00:00:00&quot;</td><td>49</td><td>48</td><td>1</td><td>1732.657704</td><td>45.833333</td><td>45.023562</td><td>-7.304961</td><td>13.522382</td><td>-3.288445</td><td>&quot;208 days 14:10:54.545454544&quot;</td><td>&quot;38 days 00:55:23.076923077&quot;</td><td>3.131492</td><td>102.490052</td><td>0.716638</td><td>0.243697</td><td>1.130183</td><td>1.002223</td></tr><tr><td>&quot;Most Profit Factor&quot;</td><td>35</td><td>48</td><td>&quot;0&quot;</td><td>&quot;7989&quot;</td><td>&quot;7990 days 00:00:00&quot;</td><td>1000.0</td><td>7455.032707</td><td>645.503271</td><td>1227.613103</td><td>100.0</td><td>245.882594</td><td>38.444311</td><td>&quot;2633 days 00:00:00&quot;</td><td>51</td><td>50</td><td>1</td><td>1688.018256</td><td>48.0</td><td>46.811565</td><td>-6.239333</td><td>12.241732</td><td>-3.344528</td><td>&quot;194 days 01:00:00&quot;</td><td>&quot;34 days 16:36:55.384615384&quot;</td><td>3.27333</td><td>95.340289</td><td>0.709191</td><td>0.250006</td><td>1.129047</td><td>0.989378</td></tr><tr><td>&hellip;</td><td>&hellip;</td><td>&hellip;</td><td>&hellip;</td><td>&hellip;</td><td>&hellip;</td><td>&hellip;</td><td>&hellip;</td><td>&hellip;</td><td>&hellip;</td><td>&hellip;</td><td>&hellip;</td><td>&hellip;</td><td>&hellip;</td><td>&hellip;</td><td>&hellip;</td><td>&hellip;</td><td>&hellip;</td><td>&hellip;</td><td>&hellip;</td><td>&hellip;</td><td>&hellip;</td><td>&hellip;</td><td>&hellip;</td><td>&hellip;</td><td>&hellip;</td><td>&hellip;</td><td>&hellip;</td><td>&hellip;</td><td>&hellip;</td><td>&hellip;</td></tr><tr><td>&quot;Least Expectancy&quot;</td><td>5</td><td>6</td><td>&quot;0&quot;</td><td>&quot;7989&quot;</td><td>&quot;7990 days 00:00:00&quot;</td><td>1000.0</td><td>500.442482</td><td>-49.955752</td><td>1227.613103</td><td>100.0</td><td>514.098102</td><td>74.639346</td><td>&quot;6488 days 00:00:00&quot;</td><td>454</td><td>453</td><td>1</td><td>8.216185</td><td>34.216336</td><td>17.239497</td><td>-6.877064</td><td>3.042051</td><td>-1.752695</td><td>&quot;22 days 01:05:01.935483871&quot;</td><td>&quot;5 days 00:57:59.194630872&quot;</td><td>0.834318</td><td>-1.120913</td><td>-0.160753</td><td>-0.041706</td><td>0.969902</td><td>-0.216995</td></tr><tr><td>&quot;Least Sharpe Ratio&quot;</td><td>5</td><td>6</td><td>&quot;0&quot;</td><td>&quot;7989&quot;</td><td>&quot;7990 days 00:00:00&quot;</td><td>1000.0</td><td>500.442482</td><td>-49.955752</td><td>1227.613103</td><td>100.0</td><td>514.098102</td><td>74.639346</td><td>&quot;6488 days 00:00:00&quot;</td><td>454</td><td>453</td><td>1</td><td>8.216185</td><td>34.216336</td><td>17.239497</td><td>-6.877064</td><td>3.042051</td><td>-1.752695</td><td>&quot;22 days 01:05:01.935483871&quot;</td><td>&quot;5 days 00:57:59.194630872&quot;</td><td>0.834318</td><td>-1.120913</td><td>-0.160753</td><td>-0.041706</td><td>0.969902</td><td>-0.216995</td></tr><tr><td>&quot;Least Calmar Ratio&quot;</td><td>5</td><td>6</td><td>&quot;0&quot;</td><td>&quot;7989&quot;</td><td>&quot;7990 days 00:00:00&quot;</td><td>1000.0</td><td>500.442482</td><td>-49.955752</td><td>1227.613103</td><td>100.0</td><td>514.098102</td><td>74.639346</td><td>&quot;6488 days 00:00:00&quot;</td><td>454</td><td>453</td><td>1</td><td>8.216185</td><td>34.216336</td><td>17.239497</td><td>-6.877064</td><td>3.042051</td><td>-1.752695</td><td>&quot;22 days 01:05:01.935483871&quot;</td><td>&quot;5 days 00:57:59.194630872&quot;</td><td>0.834318</td><td>-1.120913</td><td>-0.160753</td><td>-0.041706</td><td>0.969902</td><td>-0.216995</td></tr><tr><td>&quot;Least Omega Ratio&quot;</td><td>5</td><td>6</td><td>&quot;0&quot;</td><td>&quot;7989&quot;</td><td>&quot;7990 days 00:00:00&quot;</td><td>1000.0</td><td>500.442482</td><td>-49.955752</td><td>1227.613103</td><td>100.0</td><td>514.098102</td><td>74.639346</td><td>&quot;6488 days 00:00:00&quot;</td><td>454</td><td>453</td><td>1</td><td>8.216185</td><td>34.216336</td><td>17.239497</td><td>-6.877064</td><td>3.042051</td><td>-1.752695</td><td>&quot;22 days 01:05:01.935483871&quot;</td><td>&quot;5 days 00:57:59.194630872&quot;</td><td>0.834318</td><td>-1.120913</td><td>-0.160753</td><td>-0.041706</td><td>0.969902</td><td>-0.216995</td></tr><tr><td>&quot;Least Sortino Ratio&quot;</td><td>5</td><td>6</td><td>&quot;0&quot;</td><td>&quot;7989&quot;</td><td>&quot;7990 days 00:00:00&quot;</td><td>1000.0</td><td>500.442482</td><td>-49.955752</td><td>1227.613103</td><td>100.0</td><td>514.098102</td><td>74.639346</td><td>&quot;6488 days 00:00:00&quot;</td><td>454</td><td>453</td><td>1</td><td>8.216185</td><td>34.216336</td><td>17.239497</td><td>-6.877064</td><td>3.042051</td><td>-1.752695</td><td>&quot;22 days 01:05:01.935483871&quot;</td><td>&quot;5 days 00:57:59.194630872&quot;</td><td>0.834318</td><td>-1.120913</td><td>-0.160753</td><td>-0.041706</td><td>0.969902</td><td>-0.216995</td></tr></tbody></table></div>"
      ],
      "text/plain": [
       "shape: (66, 31)\n",
       "┌─────────────┬────────┬────────┬───────┬───┬─────────────┬─────────────┬─────────────┬────────────┐\n",
       "│ Metric Type ┆ Short  ┆ Long   ┆ Start ┆ … ┆ Sharpe      ┆ Calmar      ┆ Omega Ratio ┆ Sortino    │\n",
       "│ ---         ┆ Window ┆ Window ┆ ---   ┆   ┆ Ratio       ┆ Ratio       ┆ ---         ┆ Ratio      │\n",
       "│ str         ┆ ---    ┆ ---    ┆ str   ┆   ┆ ---         ┆ ---         ┆ f64         ┆ ---        │\n",
       "│             ┆ i64    ┆ i64    ┆       ┆   ┆ f64         ┆ f64         ┆             ┆ f64        │\n",
       "╞═════════════╪════════╪════════╪═══════╪═══╪═════════════╪═════════════╪═════════════╪════════════╡\n",
       "│ Most Total  ┆ 41     ┆ 44     ┆ 0     ┆ … ┆ 0.716638    ┆ 0.243697    ┆ 1.130183    ┆ 1.002223   │\n",
       "│ Return [%]  ┆        ┆        ┆       ┆   ┆             ┆             ┆             ┆            │\n",
       "│ Most Sharpe ┆ 41     ┆ 44     ┆ 0     ┆ … ┆ 0.716638    ┆ 0.243697    ┆ 1.130183    ┆ 1.002223   │\n",
       "│ Ratio       ┆        ┆        ┆       ┆   ┆             ┆             ┆             ┆            │\n",
       "│ Most Omega  ┆ 41     ┆ 44     ┆ 0     ┆ … ┆ 0.716638    ┆ 0.243697    ┆ 1.130183    ┆ 1.002223   │\n",
       "│ Ratio       ┆        ┆        ┆       ┆   ┆             ┆             ┆             ┆            │\n",
       "│ Most        ┆ 41     ┆ 44     ┆ 0     ┆ … ┆ 0.716638    ┆ 0.243697    ┆ 1.130183    ┆ 1.002223   │\n",
       "│ Sortino     ┆        ┆        ┆       ┆   ┆             ┆             ┆             ┆            │\n",
       "│ Ratio       ┆        ┆        ┆       ┆   ┆             ┆             ┆             ┆            │\n",
       "│ Most Profit ┆ 35     ┆ 48     ┆ 0     ┆ … ┆ 0.709191    ┆ 0.250006    ┆ 1.129047    ┆ 0.989378   │\n",
       "│ Factor      ┆        ┆        ┆       ┆   ┆             ┆             ┆             ┆            │\n",
       "│ …           ┆ …      ┆ …      ┆ …     ┆ … ┆ …           ┆ …           ┆ …           ┆ …          │\n",
       "│ Least       ┆ 5      ┆ 6      ┆ 0     ┆ … ┆ -0.160753   ┆ -0.041706   ┆ 0.969902    ┆ -0.216995  │\n",
       "│ Expectancy  ┆        ┆        ┆       ┆   ┆             ┆             ┆             ┆            │\n",
       "│ Least       ┆ 5      ┆ 6      ┆ 0     ┆ … ┆ -0.160753   ┆ -0.041706   ┆ 0.969902    ┆ -0.216995  │\n",
       "│ Sharpe      ┆        ┆        ┆       ┆   ┆             ┆             ┆             ┆            │\n",
       "│ Ratio       ┆        ┆        ┆       ┆   ┆             ┆             ┆             ┆            │\n",
       "│ Least       ┆ 5      ┆ 6      ┆ 0     ┆ … ┆ -0.160753   ┆ -0.041706   ┆ 0.969902    ┆ -0.216995  │\n",
       "│ Calmar      ┆        ┆        ┆       ┆   ┆             ┆             ┆             ┆            │\n",
       "│ Ratio       ┆        ┆        ┆       ┆   ┆             ┆             ┆             ┆            │\n",
       "│ Least Omega ┆ 5      ┆ 6      ┆ 0     ┆ … ┆ -0.160753   ┆ -0.041706   ┆ 0.969902    ┆ -0.216995  │\n",
       "│ Ratio       ┆        ┆        ┆       ┆   ┆             ┆             ┆             ┆            │\n",
       "│ Least       ┆ 5      ┆ 6      ┆ 0     ┆ … ┆ -0.160753   ┆ -0.041706   ┆ 0.969902    ┆ -0.216995  │\n",
       "│ Sortino     ┆        ┆        ┆       ┆   ┆             ┆             ┆             ┆            │\n",
       "│ Ratio       ┆        ┆        ┆       ┆   ┆             ┆             ┆             ┆            │\n",
       "└─────────────┴────────┴────────┴───────┴───┴─────────────┴─────────────┴─────────────┴────────────┘"
      ]
     },
     "execution_count": 5,
     "metadata": {},
     "output_type": "execute_result"
    }
   ],
   "source": [
    "filtered_portfolios = filter_portfolios(portfolios, CONFIG)\n",
    "\n",
    "filtered_portfolios"
   ]
  },
  {
   "cell_type": "markdown",
   "metadata": {},
   "source": [
    "## Summarize Findings\n",
    "\n",
    "Use an AI agent to consume the data and generate a comprehensive report with detailed reasoning."
   ]
  },
  {
   "cell_type": "code",
   "execution_count": null,
   "metadata": {},
   "outputs": [],
   "source": []
  },
  {
   "cell_type": "markdown",
   "metadata": {},
   "source": [
    "## Visualize Findings"
   ]
  },
  {
   "cell_type": "code",
   "execution_count": 15,
   "metadata": {},
   "outputs": [],
   "source": []
  }
 ],
 "metadata": {
  "kernelspec": {
   "display_name": ".venv",
   "language": "python",
   "name": "python3"
  },
  "language_info": {
   "codemirror_mode": {
    "name": "ipython",
    "version": 3
   },
   "file_extension": ".py",
   "mimetype": "text/x-python",
   "name": "python",
   "nbconvert_exporter": "python",
   "pygments_lexer": "ipython3",
   "version": "3.12.3"
  }
 },
 "nbformat": 4,
 "nbformat_minor": 4
}
