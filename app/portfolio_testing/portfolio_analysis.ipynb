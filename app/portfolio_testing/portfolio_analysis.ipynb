{
 "cells": [
  {
   "cell_type": "markdown",
   "metadata": {},
   "source": [
    "# Portfolio Analysis\n",
    "\n",
    "This notebook implements a portfolio optimization strategy using the riskfolio library. It includes data downloading, portfolio optimization, and performance analysis."
   ]
  },
  {
   "cell_type": "code",
   "execution_count": 10,
   "metadata": {},
   "outputs": [],
   "source": [
    "import logging\n",
    "import os\n",
    "\n",
    "import matplotlib.pyplot as plt\n",
    "import numpy as np\n",
    "import pandas as pd\n",
    "import polars as pl\n",
    "import riskfolio as rp\n",
    "\n",
    "from app.utils import download_data\n",
    "\n",
    "\n",
    "# Logging setup\n",
    "log_dir = \"logs\"\n",
    "if not os.path.exists(log_dir):\n",
    "    os.makedirs(log_dir)\n",
    "logging.basicConfig(\n",
    "    filename=os.path.join(log_dir, \"portfolio_analysis.log\"),\n",
    "    level=logging.INFO,\n",
    "    format=\"%(asctime)s - %(levelname)s - %(message)s\",\n",
    ")\n",
    "\n",
    "# Configuration\n",
    "YEARS = 4.5  # Set timeframe in years for daily data\n",
    "TICKERS = [\"BTC-USD\", \"SPY\"]"
   ]
  },
  {
   "cell_type": "markdown",
   "metadata": {},
   "source": [
    "## Data Download and Preprocessing"
   ]
  },
  {
   "cell_type": "code",
   "execution_count": 11,
   "metadata": {},
   "outputs": [
    {
     "name": "stderr",
     "output_type": "stream",
     "text": [
      "[*********************100%***********************]  1 of 1 completed\n"
     ]
    },
    {
     "name": "stdout",
     "output_type": "stream",
     "text": [
      "Error downloading data for BTC-USD. Skipping.\n"
     ]
    },
    {
     "name": "stderr",
     "output_type": "stream",
     "text": [
      "[*********************100%***********************]  1 of 1 completed"
     ]
    },
    {
     "name": "stdout",
     "output_type": "stream",
     "text": [
      "Error downloading data for SPY. Skipping.\n"
     ]
    },
    {
     "name": "stderr",
     "output_type": "stream",
     "text": [
      "\n"
     ]
    },
    {
     "ename": "ValueError",
     "evalue": "No objects to concatenate",
     "output_type": "error",
     "traceback": [
      "\u001b[1;31m---------------------------------------------------------------------------\u001b[0m",
      "\u001b[1;31mValueError\u001b[0m                                Traceback (most recent call last)",
      "Cell \u001b[1;32mIn[11], line 28\u001b[0m\n\u001b[0;32m     24\u001b[0m     returns \u001b[38;5;241m=\u001b[39m combined_data\u001b[38;5;241m.\u001b[39mpct_change(fill_method\u001b[38;5;241m=\u001b[39m\u001b[38;5;28;01mNone\u001b[39;00m)\u001b[38;5;241m.\u001b[39mdropna()\n\u001b[0;32m     26\u001b[0m     \u001b[38;5;28;01mreturn\u001b[39;00m returns\n\u001b[1;32m---> 28\u001b[0m returns \u001b[38;5;241m=\u001b[39m \u001b[43mdownload_and_preprocess_data\u001b[49m\u001b[43m(\u001b[49m\u001b[43mTICKERS\u001b[49m\u001b[43m,\u001b[49m\u001b[43m \u001b[49m\u001b[43mYEARS\u001b[49m\u001b[43m)\u001b[49m\n\u001b[0;32m     29\u001b[0m \u001b[38;5;28mprint\u001b[39m(returns\u001b[38;5;241m.\u001b[39mhead())\n",
      "Cell \u001b[1;32mIn[11], line 18\u001b[0m, in \u001b[0;36mdownload_and_preprocess_data\u001b[1;34m(tickers, years)\u001b[0m\n\u001b[0;32m     15\u001b[0m         \u001b[38;5;28mprint\u001b[39m(\u001b[38;5;124mf\u001b[39m\u001b[38;5;124m\"\u001b[39m\u001b[38;5;124mError downloading data for \u001b[39m\u001b[38;5;132;01m{\u001b[39;00mticker\u001b[38;5;132;01m}\u001b[39;00m\u001b[38;5;124m. Skipping.\u001b[39m\u001b[38;5;124m\"\u001b[39m)\n\u001b[0;32m     17\u001b[0m \u001b[38;5;66;03m# Combine data\u001b[39;00m\n\u001b[1;32m---> 18\u001b[0m combined_data \u001b[38;5;241m=\u001b[39m \u001b[43mpd\u001b[49m\u001b[38;5;241;43m.\u001b[39;49m\u001b[43mconcat\u001b[49m\u001b[43m(\u001b[49m\u001b[43mdata\u001b[49m\u001b[38;5;241;43m.\u001b[39;49m\u001b[43mvalues\u001b[49m\u001b[43m(\u001b[49m\u001b[43m)\u001b[49m\u001b[43m,\u001b[49m\u001b[43m \u001b[49m\u001b[43maxis\u001b[49m\u001b[38;5;241;43m=\u001b[39;49m\u001b[38;5;241;43m1\u001b[39;49m\u001b[43m,\u001b[49m\u001b[43m \u001b[49m\u001b[43mkeys\u001b[49m\u001b[38;5;241;43m=\u001b[39;49m\u001b[43mdata\u001b[49m\u001b[38;5;241;43m.\u001b[39;49m\u001b[43mkeys\u001b[49m\u001b[43m(\u001b[49m\u001b[43m)\u001b[49m\u001b[43m)\u001b[49m\n\u001b[0;32m     20\u001b[0m \u001b[38;5;66;03m# Ensure the index is sorted\u001b[39;00m\n\u001b[0;32m     21\u001b[0m combined_data \u001b[38;5;241m=\u001b[39m combined_data\u001b[38;5;241m.\u001b[39msort_index()\n",
      "File \u001b[1;32mc:\\Projects\\trading\\.venv\\Lib\\site-packages\\pandas\\core\\reshape\\concat.py:382\u001b[0m, in \u001b[0;36mconcat\u001b[1;34m(objs, axis, join, ignore_index, keys, levels, names, verify_integrity, sort, copy)\u001b[0m\n\u001b[0;32m    379\u001b[0m \u001b[38;5;28;01melif\u001b[39;00m copy \u001b[38;5;129;01mand\u001b[39;00m using_copy_on_write():\n\u001b[0;32m    380\u001b[0m     copy \u001b[38;5;241m=\u001b[39m \u001b[38;5;28;01mFalse\u001b[39;00m\n\u001b[1;32m--> 382\u001b[0m op \u001b[38;5;241m=\u001b[39m \u001b[43m_Concatenator\u001b[49m\u001b[43m(\u001b[49m\n\u001b[0;32m    383\u001b[0m \u001b[43m    \u001b[49m\u001b[43mobjs\u001b[49m\u001b[43m,\u001b[49m\n\u001b[0;32m    384\u001b[0m \u001b[43m    \u001b[49m\u001b[43maxis\u001b[49m\u001b[38;5;241;43m=\u001b[39;49m\u001b[43maxis\u001b[49m\u001b[43m,\u001b[49m\n\u001b[0;32m    385\u001b[0m \u001b[43m    \u001b[49m\u001b[43mignore_index\u001b[49m\u001b[38;5;241;43m=\u001b[39;49m\u001b[43mignore_index\u001b[49m\u001b[43m,\u001b[49m\n\u001b[0;32m    386\u001b[0m \u001b[43m    \u001b[49m\u001b[43mjoin\u001b[49m\u001b[38;5;241;43m=\u001b[39;49m\u001b[43mjoin\u001b[49m\u001b[43m,\u001b[49m\n\u001b[0;32m    387\u001b[0m \u001b[43m    \u001b[49m\u001b[43mkeys\u001b[49m\u001b[38;5;241;43m=\u001b[39;49m\u001b[43mkeys\u001b[49m\u001b[43m,\u001b[49m\n\u001b[0;32m    388\u001b[0m \u001b[43m    \u001b[49m\u001b[43mlevels\u001b[49m\u001b[38;5;241;43m=\u001b[39;49m\u001b[43mlevels\u001b[49m\u001b[43m,\u001b[49m\n\u001b[0;32m    389\u001b[0m \u001b[43m    \u001b[49m\u001b[43mnames\u001b[49m\u001b[38;5;241;43m=\u001b[39;49m\u001b[43mnames\u001b[49m\u001b[43m,\u001b[49m\n\u001b[0;32m    390\u001b[0m \u001b[43m    \u001b[49m\u001b[43mverify_integrity\u001b[49m\u001b[38;5;241;43m=\u001b[39;49m\u001b[43mverify_integrity\u001b[49m\u001b[43m,\u001b[49m\n\u001b[0;32m    391\u001b[0m \u001b[43m    \u001b[49m\u001b[43mcopy\u001b[49m\u001b[38;5;241;43m=\u001b[39;49m\u001b[43mcopy\u001b[49m\u001b[43m,\u001b[49m\n\u001b[0;32m    392\u001b[0m \u001b[43m    \u001b[49m\u001b[43msort\u001b[49m\u001b[38;5;241;43m=\u001b[39;49m\u001b[43msort\u001b[49m\u001b[43m,\u001b[49m\n\u001b[0;32m    393\u001b[0m \u001b[43m\u001b[49m\u001b[43m)\u001b[49m\n\u001b[0;32m    395\u001b[0m \u001b[38;5;28;01mreturn\u001b[39;00m op\u001b[38;5;241m.\u001b[39mget_result()\n",
      "File \u001b[1;32mc:\\Projects\\trading\\.venv\\Lib\\site-packages\\pandas\\core\\reshape\\concat.py:445\u001b[0m, in \u001b[0;36m_Concatenator.__init__\u001b[1;34m(self, objs, axis, join, keys, levels, names, ignore_index, verify_integrity, copy, sort)\u001b[0m\n\u001b[0;32m    442\u001b[0m \u001b[38;5;28mself\u001b[39m\u001b[38;5;241m.\u001b[39mverify_integrity \u001b[38;5;241m=\u001b[39m verify_integrity\n\u001b[0;32m    443\u001b[0m \u001b[38;5;28mself\u001b[39m\u001b[38;5;241m.\u001b[39mcopy \u001b[38;5;241m=\u001b[39m copy\n\u001b[1;32m--> 445\u001b[0m objs, keys \u001b[38;5;241m=\u001b[39m \u001b[38;5;28;43mself\u001b[39;49m\u001b[38;5;241;43m.\u001b[39;49m\u001b[43m_clean_keys_and_objs\u001b[49m\u001b[43m(\u001b[49m\u001b[43mobjs\u001b[49m\u001b[43m,\u001b[49m\u001b[43m \u001b[49m\u001b[43mkeys\u001b[49m\u001b[43m)\u001b[49m\n\u001b[0;32m    447\u001b[0m \u001b[38;5;66;03m# figure out what our result ndim is going to be\u001b[39;00m\n\u001b[0;32m    448\u001b[0m ndims \u001b[38;5;241m=\u001b[39m \u001b[38;5;28mself\u001b[39m\u001b[38;5;241m.\u001b[39m_get_ndims(objs)\n",
      "File \u001b[1;32mc:\\Projects\\trading\\.venv\\Lib\\site-packages\\pandas\\core\\reshape\\concat.py:507\u001b[0m, in \u001b[0;36m_Concatenator._clean_keys_and_objs\u001b[1;34m(self, objs, keys)\u001b[0m\n\u001b[0;32m    504\u001b[0m     objs_list \u001b[38;5;241m=\u001b[39m \u001b[38;5;28mlist\u001b[39m(objs)\n\u001b[0;32m    506\u001b[0m \u001b[38;5;28;01mif\u001b[39;00m \u001b[38;5;28mlen\u001b[39m(objs_list) \u001b[38;5;241m==\u001b[39m \u001b[38;5;241m0\u001b[39m:\n\u001b[1;32m--> 507\u001b[0m     \u001b[38;5;28;01mraise\u001b[39;00m \u001b[38;5;167;01mValueError\u001b[39;00m(\u001b[38;5;124m\"\u001b[39m\u001b[38;5;124mNo objects to concatenate\u001b[39m\u001b[38;5;124m\"\u001b[39m)\n\u001b[0;32m    509\u001b[0m \u001b[38;5;28;01mif\u001b[39;00m keys \u001b[38;5;129;01mis\u001b[39;00m \u001b[38;5;28;01mNone\u001b[39;00m:\n\u001b[0;32m    510\u001b[0m     objs_list \u001b[38;5;241m=\u001b[39m \u001b[38;5;28mlist\u001b[39m(com\u001b[38;5;241m.\u001b[39mnot_none(\u001b[38;5;241m*\u001b[39mobjs_list))\n",
      "\u001b[1;31mValueError\u001b[0m: No objects to concatenate"
     ]
    }
   ],
   "source": [
    "def download_and_preprocess_data(tickers, years):\n",
    "    data = {}\n",
    "    for ticker in tickers:\n",
    "        try:\n",
    "            df = download_data(ticker, False, years)\n",
    "            if isinstance(df, pl.DataFrame):\n",
    "                # Convert Polars DataFrame to Pandas DataFrame\n",
    "                df = df.to_pandas()\n",
    "            # Ensure the index is datetime\n",
    "            if not isinstance(df.index, pd.DatetimeIndex):\n",
    "                df.index = pd.to_datetime(df.index)\n",
    "            data[ticker] = df[\"close\"]  # Assuming 'close' is the column we want\n",
    "        except Exception as e:\n",
    "            logging.error(f\"Error downloading data for {ticker}: {e!s}\")\n",
    "            print(f\"Error downloading data for {ticker}. Skipping.\")\n",
    "\n",
    "    # Combine data\n",
    "    combined_data = pd.concat(data.values(), axis=1, keys=data.keys())\n",
    "\n",
    "    # Ensure the index is sorted\n",
    "    combined_data = combined_data.sort_index()\n",
    "\n",
    "    # Calculate returns\n",
    "    returns = combined_data.pct_change(fill_method=None).dropna()\n",
    "\n",
    "    return returns\n",
    "\n",
    "\n",
    "returns = download_and_preprocess_data(TICKERS, YEARS)\n",
    "print(returns.head())"
   ]
  },
  {
   "cell_type": "markdown",
   "metadata": {},
   "source": [
    "## Portfolio Optimization"
   ]
  },
  {
   "cell_type": "code",
   "execution_count": null,
   "metadata": {},
   "outputs": [],
   "source": [
    "def optimize_portfolio(returns):\n",
    "    # Create portfolio object\n",
    "    port = rp.Portfolio(returns)\n",
    "\n",
    "    # Set up portfolio parameters\n",
    "    method_mu = \"hist\"  # Method to estimate expected returns\n",
    "    method_cov = \"hist\"  # Method to estimate covariance matrix\n",
    "\n",
    "    # Estimate inputs\n",
    "    port.assets_stats(method_mu=method_mu, method_cov=method_cov)\n",
    "\n",
    "    # Set up optimization parameters\n",
    "    model = \"Classic\"  # Markowitz model\n",
    "    rm = \"MV\"  # Risk measure: Variance\n",
    "    obj = \"Sharpe\"  # Objective: Maximize Sharpe ratio\n",
    "    hist = True  # Use historical scenarios\n",
    "    rf = 0  # Risk-free rate\n",
    "    l = 0  # Risk aversion factor\n",
    "\n",
    "    # Add constraints\n",
    "    constraints = {\n",
    "        \"Disabled\": False,  # Enable constraints\n",
    "        \"Type\": \"Exact\",\n",
    "        \"Sum\": 1,  # Sum of weights must be 1\n",
    "        \"LowerBound\": 0.05,  # Minimum weight per asset\n",
    "        \"UpperBound\": 0.4,  # Maximum weight per asset\n",
    "    }\n",
    "\n",
    "    # Optimize portfolio\n",
    "    w = port.optimization(\n",
    "        model=model, rm=rm, obj=obj, rf=rf, l=l, hist=hist, constraints=constraints\n",
    "    )\n",
    "\n",
    "    return w\n",
    "\n",
    "\n",
    "weights = optimize_portfolio(returns)\n",
    "print(\"Optimal portfolio weights:\")\n",
    "print(weights.T)"
   ]
  },
  {
   "cell_type": "markdown",
   "metadata": {},
   "source": [
    "## Performance Analysis"
   ]
  },
  {
   "cell_type": "code",
   "execution_count": null,
   "metadata": {},
   "outputs": [],
   "source": [
    "def calculate_performance(returns, weights):\n",
    "    portfolio_returns = (returns * weights.T.values).sum(axis=1)\n",
    "\n",
    "    annualized_return = portfolio_returns.mean() * 252\n",
    "    annualized_volatility = portfolio_returns.std() * np.sqrt(252)\n",
    "    sharpe_ratio = (\n",
    "        annualized_return / annualized_volatility if annualized_volatility != 0 else 0\n",
    "    )\n",
    "\n",
    "    print(\"\\nPortfolio Metrics:\")\n",
    "    print(f\"Annualized Return: {annualized_return:.2%}\")\n",
    "    print(f\"Annualized Volatility: {annualized_volatility:.2%}\")\n",
    "    print(f\"Sharpe Ratio: {sharpe_ratio:.2f}\")\n",
    "\n",
    "    for asset in returns.columns:\n",
    "        asset_return = returns[asset]\n",
    "        asset_weight = weights.T[asset].values[0]\n",
    "        asset_annualized_return = asset_return.mean() * 252\n",
    "        asset_annualized_volatility = asset_return.std() * np.sqrt(252)\n",
    "        asset_sharpe_ratio = (\n",
    "            asset_annualized_return / asset_annualized_volatility\n",
    "            if asset_annualized_volatility != 0\n",
    "            else 0\n",
    "        )\n",
    "\n",
    "        print(f\"\\n{asset} Metrics:\")\n",
    "        print(f\"Weight: {asset_weight:.2%}\")\n",
    "        print(f\"Annualized Return: {asset_annualized_return:.2%}\")\n",
    "        print(f\"Annualized Volatility: {asset_annualized_volatility:.2%}\")\n",
    "        print(f\"Sharpe Ratio: {asset_sharpe_ratio:.2f}\")\n",
    "\n",
    "    return portfolio_returns\n",
    "\n",
    "\n",
    "portfolio_returns = calculate_performance(returns, weights)"
   ]
  },
  {
   "cell_type": "markdown",
   "metadata": {},
   "source": [
    "## Visualization"
   ]
  },
  {
   "cell_type": "code",
   "execution_count": null,
   "metadata": {},
   "outputs": [],
   "source": [
    "def visualize_portfolio(weights, portfolio_returns):\n",
    "    # Pie chart of asset allocation\n",
    "    plt.figure(figsize=(10, 5))\n",
    "    plt.subplot(1, 2, 1)\n",
    "    plt.pie(weights.T.values[0], labels=weights.T.columns, autopct=\"%1.1f%%\")\n",
    "    plt.title(\"Portfolio Allocation\")\n",
    "\n",
    "    # Cumulative returns plot\n",
    "    plt.subplot(1, 2, 2)\n",
    "    (1 + portfolio_returns).cumprod().plot()\n",
    "    plt.title(\"Cumulative Portfolio Returns\")\n",
    "    plt.ylabel(\"Cumulative Returns\")\n",
    "\n",
    "    plt.tight_layout()\n",
    "    plt.show()\n",
    "\n",
    "\n",
    "visualize_portfolio(weights, portfolio_returns)"
   ]
  },
  {
   "cell_type": "markdown",
   "metadata": {},
   "source": [
    "## Rolling Window Analysis"
   ]
  },
  {
   "cell_type": "code",
   "execution_count": null,
   "metadata": {},
   "outputs": [],
   "source": [
    "def rolling_window_analysis(returns, window=252):\n",
    "    rolling_sharpe = returns.rolling(window).apply(\n",
    "        lambda x: np.sqrt(252) * x.mean() / x.std()\n",
    "    )\n",
    "\n",
    "    plt.figure(figsize=(12, 6))\n",
    "    rolling_sharpe.plot()\n",
    "    plt.title(f\"Rolling {window}-day Sharpe Ratio\")\n",
    "    plt.ylabel(\"Sharpe Ratio\")\n",
    "    plt.show()\n",
    "\n",
    "\n",
    "rolling_window_analysis(portfolio_returns)"
   ]
  }
 ],
 "metadata": {
  "kernelspec": {
   "display_name": ".venv",
   "language": "python",
   "name": "python3"
  },
  "language_info": {
   "name": "python",
   "version": "3.12.3"
  }
 },
 "nbformat": 4,
 "nbformat_minor": 2
}
